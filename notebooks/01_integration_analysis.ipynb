{
 "cells": [
  {
   "cell_type": "markdown",
   "id": "9ef90d12",
   "metadata": {},
   "source": [
    "# Product Integration Analysis – Veloura\n",
    "This notebook analyzes the impact of a newly implemented PLM tool on team productivity, task completion, and process efficiency."
   ]
  },
  {
   "cell_type": "markdown",
   "id": "ae75fea6",
   "metadata": {},
   "source": [
    "## 1. Import Libraries"
   ]
  },
  {
   "cell_type": "code",
   "execution_count": null,
   "id": "02f3d430",
   "metadata": {},
   "outputs": [],
   "source": [
    "import pandas as pd\n",
    "import matplotlib.pyplot as plt\n",
    "import seaborn as sns\n",
    "\n",
    "# Set display options\n",
    "pd.set_option('display.max_columns', None)\n",
    "sns.set(style='whitegrid')"
   ]
  },
  {
   "cell_type": "markdown",
   "id": "f84dd382",
   "metadata": {},
   "source": [
    "## 2. Load the Dataset"
   ]
  },
  {
   "cell_type": "code",
   "execution_count": null,
   "id": "402d9434",
   "metadata": {},
   "outputs": [],
   "source": [
    "df = pd.read_csv('../data/plm_tool_adoption_veloura.csv')\n",
    "df.head()"
   ]
  },
  {
   "cell_type": "markdown",
   "id": "67a87b95",
   "metadata": {},
   "source": [
    "## 3. Initial Exploration"
   ]
  },
  {
   "cell_type": "code",
   "execution_count": null,
   "id": "9d574445",
   "metadata": {},
   "outputs": [],
   "source": [
    "# Check for nulls and data types\n",
    "df.info()\n",
    "df.describe()"
   ]
  },
  {
   "cell_type": "markdown",
   "id": "cf5c41f1",
   "metadata": {},
   "source": [
    "## 4. Feature Adoption Breakdown"
   ]
  },
  {
   "cell_type": "code",
   "execution_count": null,
   "id": "e4441d73",
   "metadata": {},
   "outputs": [],
   "source": [
    "# Plot adoption rates\n",
    "adoption_counts = df['feature_used'].value_counts()\n",
    "adoption_counts.plot(kind='bar', title='PLM Tool Adoption Counts')\n",
    "plt.xlabel('Feature Used')\n",
    "plt.ylabel('Number of Users')\n",
    "plt.tight_layout()\n",
    "plt.show()"
   ]
  },
  {
   "cell_type": "markdown",
   "id": "c7e1025d",
   "metadata": {},
   "source": [
    "## 5. Productivity Comparison"
   ]
  },
  {
   "cell_type": "code",
   "execution_count": null,
   "id": "107ce9af",
   "metadata": {},
   "outputs": [],
   "source": [
    "# Compare task completion and delay between adopters and non-adopters\n",
    "sns.boxplot(x='feature_used', y='tasks_completed', data=df)\n",
    "plt.title('Tasks Completed by Feature Usage')\n",
    "plt.show()\n",
    "\n",
    "sns.boxplot(x='feature_used', y='process_delay', data=df)\n",
    "plt.title('Process Delay by Feature Usage')\n",
    "plt.show()"
   ]
  },
  {
   "cell_type": "markdown",
   "id": "7b1fa2b3",
   "metadata": {},
   "source": [
    "## 6. Team-Level Insights"
   ]
  },
  {
   "cell_type": "code",
   "execution_count": null,
   "id": "2880313f",
   "metadata": {},
   "outputs": [],
   "source": [
    "# Average usage by team and feature adoption\n",
    "team_summary = df.groupby(['team', 'feature_used']).agg({\n",
    "    'tasks_completed': 'mean',\n",
    "    'process_delay': 'mean',\n",
    "    'week_4_usage': 'mean',\n",
    "    'feedback_score': 'mean'\n",
    "}).reset_index()\n",
    "team_summary"
   ]
  },
  {
   "cell_type": "markdown",
   "id": "3f203e7d",
   "metadata": {},
   "source": [
    "## 7. Conclusion and Recommendations"
   ]
  },
  {
   "cell_type": "markdown",
   "id": "3d3f67e5",
   "metadata": {},
   "source": [
    "- Users who adopted the PLM tool completed more tasks and reported lower delays.\n",
    "- Feature adopters gave higher feedback scores, suggesting greater satisfaction.\n",
    "- Next steps: Expand tool rollout to remaining users and monitor over an 8-week period.\n",
    "\n",
    "All data is synthetic and simulated for educational use only."
   ]
  }
 ],
 "metadata": {},
 "nbformat": 4,
 "nbformat_minor": 5
}
